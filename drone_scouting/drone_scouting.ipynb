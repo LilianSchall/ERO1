{
 "cells": [
  {
   "cell_type": "code",
   "execution_count": 128,
   "id": "8362ce9d",
   "metadata": {},
   "outputs": [
    {
     "name": "stdout",
     "output_type": "stream",
     "text": [
      "loaded\n"
     ]
    }
   ],
   "source": [
    "import osmnx as ox\n",
    "import networkx as nx\n",
    "import matplotlib\n",
    "import matplotlib.pyplot as plt\n",
    "print(\"loaded\")\n",
    "colors = ['red', 'blue', 'green', 'yellow', 'orange', 'purple', 'pink', 'brown', 'grey', 'black', 'white', 'cyan', 'magenta']"
   ]
  },
  {
   "cell_type": "code",
   "execution_count": 155,
   "id": "fdfc106d",
   "metadata": {},
   "outputs": [],
   "source": [
    "def get_graph(name):\n",
    "    G = ox.graph_from_place(name, network_type='all')\n",
    "    G = ox.project_graph(G)\n",
    "    return G"
   ]
  },
  {
   "cell_type": "code",
   "execution_count": 156,
   "id": "0916da2d",
   "metadata": {},
   "outputs": [],
   "source": [
    "def get_color(node, comp):\n",
    "    for count, components in enumerate(comp):\n",
    "        if node in components:\n",
    "            return colors[count]\n",
    "    return None\n",
    "        \n",
    "def color_graph(G):\n",
    "    # Tarjan algorithm\n",
    "    strong_components = nx.strongly_connected_components(G)\n",
    "\n",
    "    # Print the strongly connected components\n",
    "    print(\"Strongly Connected Components:\")\n",
    "    comp = []\n",
    "    for component in strong_components:\n",
    "        comp.append(component)\n",
    "        #print(component)\n",
    "    node_colors = []\n",
    "    colored_nodes = []\n",
    "    for node in G.nodes:\n",
    "        color = get_color(node, comp)\n",
    "        node_colors.append(color)\n",
    "    return node_colors, colored_nodes\n",
    "\n",
    "def display_and_color_graph(G):\n",
    "    ox.plot_graph(G)\n",
    "    node_colors, colored_nodes = color_graph(G)\n",
    "\n",
    "    fig, ax = ox.plot_graph(G, node_color=node_colors, edge_color='grey', bgcolor='black', show=False, close=False)\n",
    "\n",
    "    for node in G.nodes:\n",
    "        pass\n",
    "        #if node in colored_nodes:\n",
    "        #    x, y = G.nodes[node]['x'], G.nodes[node]['y']\n",
    "        #    ax.text(x, y, node, fontsize=8, ha='center', va='center', color='white')"
   ]
  },
  {
   "cell_type": "code",
   "execution_count": null,
   "id": "d3935d87",
   "metadata": {},
   "outputs": [],
   "source": [
    "outremont = get_graph(\"Outremont, Montreal, Canada\")\n",
    "display_and_color_graph(outremont)\n",
    "#verdun = get_graph(\"Verdun, Montreal, Canada\")\n",
    "#display_and_color_graph(verdun)"
   ]
  },
  {
   "cell_type": "code",
   "execution_count": 78,
   "id": "9c803d13",
   "metadata": {},
   "outputs": [
    {
     "name": "stdout",
     "output_type": "stream",
     "text": [
      "The graph does not have an Eulerian cycle.\n"
     ]
    }
   ],
   "source": [
    "# determine if the graph is eularian which is super easy to have \n",
    "# a list of edges to visit\n",
    "if nx.is_eulerian(graph):\n",
    "    eulerian_cycle = list(nx.eulerian_circuit(graph))\n",
    "    print(\"Eulerian cycle:\")\n",
    "    print(eulerian_cycle)\n",
    "else:\n",
    "    print(\"The graph does not have an Eulerian cycle.\")"
   ]
  },
  {
   "cell_type": "code",
   "execution_count": null,
   "id": "81cc6c9d",
   "metadata": {},
   "outputs": [],
   "source": []
  }
 ],
 "metadata": {
  "kernelspec": {
   "display_name": "Python 3 (ipykernel)",
   "language": "python",
   "name": "python3"
  },
  "language_info": {
   "codemirror_mode": {
    "name": "ipython",
    "version": 3
   },
   "file_extension": ".py",
   "mimetype": "text/x-python",
   "name": "python",
   "nbconvert_exporter": "python",
   "pygments_lexer": "ipython3",
   "version": "3.10.5"
  }
 },
 "nbformat": 4,
 "nbformat_minor": 5
}
