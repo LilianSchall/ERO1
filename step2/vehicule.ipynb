{
 "cells": [
  {
   "cell_type": "code",
   "execution_count": 1,
   "id": "4c497b03",
   "metadata": {},
   "outputs": [
    {
     "name": "stdout",
     "output_type": "stream",
     "text": [
      "loaded\n"
     ]
    }
   ],
   "source": [
    "import osmnx as ox\n",
    "import networkx as nx\n",
    "import matplotlib\n",
    "import matplotlib.pyplot as plt\n",
    "import json\n",
    "print(\"loaded\")\n",
    "colors = ['red', 'blue', 'green', 'yellow', 'orange', 'purple', 'pink', 'brown', 'grey', 'lightblue', 'cyan', 'magenta', 'red', 'blue', 'green', 'yellow', 'orange', 'purple', 'pink', 'brown', 'grey', 'lightblue', 'cyan', 'magenta']\n",
    "arrondissements = [\n",
    "\n",
    "    'Ahuntsic-Cartierville',\n",
    "    'Anjou',\n",
    "    'Côte-des-Neiges–Notre-Dame-de-Grâce',\n",
    "    'Lachine',\n",
    "    'LaSalle',\n",
    "    'Le Plateau-Mont-Royal',\n",
    "    'Le Sud-Ouest',\n",
    "    'L\\'Île-Bizard–Sainte-Geneviève',\n",
    "    'Mercier–Hochelaga-Maisonneuve',\n",
    "    'Montréal-Nord',\n",
    "    'Outremont',\n",
    "    'Pierrefonds-Roxboro',\n",
    "    'Rivière-des-Prairies–Pointe-aux-Trembles',\n",
    "    'Rosemont–La Petite-Patrie',\n",
    "    'Saint-Laurent',\n",
    "    'Saint-Léonard',\n",
    "    'Verdun',\n",
    "    'Ville-Marie',\n",
    "    'Villeray–Saint-Michel–Parc-Extension'\n",
    "]"
   ]
  },
  {
   "cell_type": "code",
   "execution_count": 2,
   "id": "944cd020",
   "metadata": {},
   "outputs": [],
   "source": [
    "def get_graph(name):\n",
    "    G = ox.graph_from_place(name, network_type='drive')\n",
    "    G = ox.project_graph(G)\n",
    "    return G"
   ]
  },
  {
   "cell_type": "code",
   "execution_count": 3,
   "id": "a2f475b7",
   "metadata": {},
   "outputs": [],
   "source": [
    "# you can call the getEulerienGraph with the name of the sector\n",
    "# it will give you the eulerian path of this sector"
   ]
  },
  {
   "cell_type": "code",
   "execution_count": 4,
   "id": "1ab14ce5",
   "metadata": {},
   "outputs": [],
   "source": [
    "def read_json(filename):\n",
    "    with open(filename, \"r\") as file:\n",
    "        data = json.loads(file.read())\n",
    "    return data\n",
    "\n",
    "def transform_to_tuples(list_of_lists):\n",
    "    return [tuple(sub_list) for sub_list in list_of_lists]\n",
    "\n",
    "\n",
    "def getEulerienGraph(name):\n",
    "    i = arrondissements.index(name)\n",
    "    print(arrondissements[i])\n",
    "    chemin = read_json(\"../drone_scouting/paths.txt\")\n",
    "    return (transform_to_tuples(chemin[i]))\n",
    "    \n"
   ]
  },
  {
   "cell_type": "code",
   "execution_count": 5,
   "id": "4a28b6f7",
   "metadata": {},
   "outputs": [
    {
     "name": "stdout",
     "output_type": "stream",
     "text": [
      "Ahuntsic-Cartierville\n",
      "there is 3277 chemins\n"
     ]
    }
   ],
   "source": [
    "\n",
    "paths = getEulerienGraph(arrondissements[0])\n",
    "print(\"there is \" + str(len(paths)) + \" chemins\")"
   ]
  },
  {
   "cell_type": "code",
   "execution_count": 23,
   "id": "71b39023",
   "metadata": {},
   "outputs": [],
   "source": [
    "# si le chemin n'existe pas dans le circuit non eulerien, on cherche le chemin entre les deux noeuds dans le graphe non eulerien"
   ]
  },
  {
   "cell_type": "code",
   "execution_count": 11,
   "id": "059bc611",
   "metadata": {},
   "outputs": [],
   "source": [
    "from collections import deque\n",
    "\n",
    "def bfs(G, start, end):\n",
    "    queue = [(start, [start])]\n",
    "    while queue:\n",
    "        (node, path) = queue.pop(0)\n",
    "        for next_node in G.neighbors(node):\n",
    "            if next_node == end:\n",
    "                return path + [next_node]\n",
    "            else:\n",
    "                queue.append((next_node, path + [next_node]))\n",
    "    return None\n",
    "\n"
   ]
  },
  {
   "cell_type": "code",
   "execution_count": 7,
   "id": "00333a61",
   "metadata": {},
   "outputs": [],
   "source": [
    "def is_in_graph(G, x, y):\n",
    "    for (a, b, w) in G:\n",
    "        if (x == a and y == b):\n",
    "            return True\n",
    "    return False\n",
    "\n",
    "def replace_nodes(G, path):\n",
    "    i = 0\n",
    "    print(\"start while\")\n",
    "    while i < len(path) - 1:\n",
    "        a = path[i]\n",
    "        b = path[i + 1]\n",
    "        if (not is_in_graph(G, a, b)):\n",
    "            print(\"dijkstra iter \" + str(i))\n",
    "            p, d = dijkstra(G, a, b, True) # considering graph directed\n",
    "            if (d == 0): # if there is no path, considering graph non directed\n",
    "                p, d = dijkstra(G, a, b, False)\n",
    "            path.pop(i)\n",
    "            path.pop(i)\n",
    "            for e in p:\n",
    "                path.insert(i, e)\n",
    "                i += 1\n",
    "            if (d != 0):\n",
    "                i -= 1\n",
    "        else:\n",
    "            i += 1\n",
    "    print(\"end while\")\n",
    "    return path"
   ]
  },
  {
   "cell_type": "code",
   "execution_count": 8,
   "id": "d1333104",
   "metadata": {},
   "outputs": [],
   "source": [
    "g = get_graph(\"Ahuntsic-Cartierville\" + \", Montreal, Canada\")"
   ]
  },
  {
   "cell_type": "code",
   "execution_count": 7,
   "id": "7bd61db4",
   "metadata": {},
   "outputs": [],
   "source": [
    "def dijkstra(G, start, end, is_directed):\n",
    "    # conversions\n",
    "    graph = {}\n",
    "    # calculate total number of vertices\n",
    "    total = 0\n",
    "    for (a, b, w) in G:\n",
    "        if a > total:\n",
    "            total = a\n",
    "        if b > total:\n",
    "            total = b\n",
    "    for i in range(total + 1):\n",
    "        graph[i] = {}\n",
    "    for (a, b, w) in G:\n",
    "        graph[a][b] = w\n",
    "        if not is_directed: # if the graph is not directed add the same edge but in reverse direction\n",
    "            graph[b][a] = w\n",
    "    \n",
    "    # empty dictionary to hold distances\n",
    "    distances = {} \n",
    "    # list of vertices in path to current vertex\n",
    "    predecessors = {} \n",
    "    \n",
    "    # get all the vertices that need to be assessed\n",
    "    to_assess = graph.keys() \n",
    "\n",
    "    # set all initial distances to infinity\n",
    "    #  and no predecessor for any node\n",
    "    for node in graph:\n",
    "        distances[node] = float('inf')\n",
    "        predecessors[node] = None\n",
    "    \n",
    "    # set the initial collection of \n",
    "    # permanently labelled nodes to be empty\n",
    "    sp_set = []\n",
    "\n",
    "    # set the distance from the start vertex to be 0\n",
    "    distances[start] = 0\n",
    "    \n",
    "    # as long as there are still vertices to assess:\n",
    "    while len(sp_set) < len(to_assess):\n",
    "\n",
    "        # chop out any vertices with a permanent label\n",
    "        still_in = {node: distances[node]\\\n",
    "                    for node in [node for node in\\\n",
    "                    to_assess if node not in sp_set]}\n",
    "\n",
    "        # find the closest node to the current vertex\n",
    "        closest = min(still_in, key = distances.get)\n",
    "\n",
    "        # and add it to the permanently labelled vertices\n",
    "        sp_set.append(closest)\n",
    "        \n",
    "        # then for all the neighbours of \n",
    "        # the closest vertex (that was just added to\n",
    "        # the permanent set)\n",
    "        for node in graph[closest]:\n",
    "            # if a shorter path to that node can be found\n",
    "            if distances[node] > distances[closest] +\\\n",
    "                       graph[closest][node]:\n",
    "\n",
    "                # update the distance with \n",
    "                # that shorter distance\n",
    "                distances[node] = distances[closest] +\\\n",
    "                       graph[closest][node]\n",
    "\n",
    "                # set the predecessor for that node\n",
    "                predecessors[node] = closest\n",
    "                \n",
    "    # once the loop is complete the final \n",
    "    # path needs to be calculated - this can\n",
    "    # be done by backtracking through the predecessors\n",
    "    path = [end]\n",
    "    while start not in path:\n",
    "        if (predecessors[path[-1]] == None): # it means that path doesnt exist\n",
    "            return None, 0\n",
    "        path.append(predecessors[path[-1]])\n",
    "    \n",
    "    # return the path in order start -> end, and it's cost\n",
    "    return path[::-1], distances[end]\n"
   ]
  },
  {
   "cell_type": "code",
   "execution_count": 9,
   "id": "eedeface",
   "metadata": {},
   "outputs": [],
   "source": [
    "\n",
    "L = []\n",
    "a,b = paths[0]\n",
    "L.append(a)\n",
    "\n",
    "for (a,b) in paths:\n",
    "    L.append(b)\n"
   ]
  },
  {
   "cell_type": "code",
   "execution_count": null,
   "id": "77861e4b",
   "metadata": {},
   "outputs": [],
   "source": []
  },
  {
   "cell_type": "code",
   "execution_count": null,
   "id": "e1f5df03",
   "metadata": {},
   "outputs": [
    {
     "name": "stdout",
     "output_type": "stream",
     "text": [
      "start while\n",
      "dijkstra iter 0\n"
     ]
    }
   ],
   "source": [
    "\n",
    "true_path = replace_nodes(g.edges, L)\n",
    "\n",
    "print(\"The true path is : \", true_path)"
   ]
  },
  {
   "cell_type": "code",
   "execution_count": 12,
   "id": "69e2ddc6",
   "metadata": {},
   "outputs": [
    {
     "name": "stdout",
     "output_type": "stream",
     "text": [
      "start while\n",
      "dijkstra iter 1\n"
     ]
    },
    {
     "ename": "AttributeError",
     "evalue": "'list' object has no attribute 'neighbors'",
     "output_type": "error",
     "traceback": [
      "\u001b[0;31m---------------------------------------------------------------------------\u001b[0m",
      "\u001b[0;31mAttributeError\u001b[0m                            Traceback (most recent call last)",
      "Input \u001b[0;32mIn [12]\u001b[0m, in \u001b[0;36m<cell line: 3>\u001b[0;34m()\u001b[0m\n\u001b[1;32m      1\u001b[0m G \u001b[38;5;241m=\u001b[39m [(\u001b[38;5;241m0\u001b[39m, \u001b[38;5;241m3\u001b[39m, \u001b[38;5;241m7\u001b[39m), (\u001b[38;5;241m0\u001b[39m, \u001b[38;5;241m2\u001b[39m, \u001b[38;5;241m3\u001b[39m), (\u001b[38;5;241m1\u001b[39m, \u001b[38;5;241m2\u001b[39m, \u001b[38;5;241m1\u001b[39m), (\u001b[38;5;241m1\u001b[39m, \u001b[38;5;241m7\u001b[39m, \u001b[38;5;241m2\u001b[39m), (\u001b[38;5;241m2\u001b[39m, \u001b[38;5;241m5\u001b[39m, \u001b[38;5;241m2\u001b[39m), (\u001b[38;5;241m2\u001b[39m, \u001b[38;5;241m4\u001b[39m, \u001b[38;5;241m3\u001b[39m), (\u001b[38;5;241m2\u001b[39m, \u001b[38;5;241m3\u001b[39m, \u001b[38;5;241m6\u001b[39m), (\u001b[38;5;241m3\u001b[39m, \u001b[38;5;241m8\u001b[39m, \u001b[38;5;241m9\u001b[39m), (\u001b[38;5;241m3\u001b[39m, \u001b[38;5;241m0\u001b[39m, \u001b[38;5;241m2\u001b[39m), (\u001b[38;5;241m4\u001b[39m, \u001b[38;5;241m5\u001b[39m, \u001b[38;5;241m2\u001b[39m), (\u001b[38;5;241m4\u001b[39m, \u001b[38;5;241m8\u001b[39m, \u001b[38;5;241m3\u001b[39m), (\u001b[38;5;241m5\u001b[39m, \u001b[38;5;241m4\u001b[39m, \u001b[38;5;241m2\u001b[39m), (\u001b[38;5;241m5\u001b[39m, \u001b[38;5;241m1\u001b[39m, \u001b[38;5;241m4\u001b[39m), (\u001b[38;5;241m6\u001b[39m, \u001b[38;5;241m8\u001b[39m, \u001b[38;5;241m2\u001b[39m), (\u001b[38;5;241m6\u001b[39m, \u001b[38;5;241m5\u001b[39m, \u001b[38;5;241m6\u001b[39m), (\u001b[38;5;241m6\u001b[39m, \u001b[38;5;241m7\u001b[39m, \u001b[38;5;241m4\u001b[39m), (\u001b[38;5;241m7\u001b[39m, \u001b[38;5;241m6\u001b[39m, \u001b[38;5;241m4\u001b[39m), (\u001b[38;5;241m7\u001b[39m, \u001b[38;5;241m9\u001b[39m, \u001b[38;5;241m4\u001b[39m), (\u001b[38;5;241m8\u001b[39m, \u001b[38;5;241m4\u001b[39m, \u001b[38;5;241m3\u001b[39m), (\u001b[38;5;241m8\u001b[39m, \u001b[38;5;241m3\u001b[39m, \u001b[38;5;241m3\u001b[39m), (\u001b[38;5;241m9\u001b[39m, \u001b[38;5;241m6\u001b[39m, \u001b[38;5;241m4\u001b[39m), (\u001b[38;5;241m9\u001b[39m, \u001b[38;5;241m11\u001b[39m, \u001b[38;5;241m1\u001b[39m), (\u001b[38;5;241m10\u001b[39m, \u001b[38;5;241m11\u001b[39m, \u001b[38;5;241m1\u001b[39m)]\n\u001b[1;32m      2\u001b[0m eulerian_path \u001b[38;5;241m=\u001b[39m [\u001b[38;5;241m10\u001b[39m, \u001b[38;5;241m11\u001b[39m, \u001b[38;5;241m9\u001b[39m, \u001b[38;5;241m11\u001b[39m, \u001b[38;5;241m6\u001b[39m, \u001b[38;5;241m7\u001b[39m, \u001b[38;5;241m9\u001b[39m, \u001b[38;5;241m6\u001b[39m, \u001b[38;5;241m5\u001b[39m, \u001b[38;5;241m1\u001b[39m, \u001b[38;5;241m7\u001b[39m, \u001b[38;5;241m6\u001b[39m, \u001b[38;5;241m8\u001b[39m, \u001b[38;5;241m3\u001b[39m, \u001b[38;5;241m0\u001b[39m, \u001b[38;5;241m2\u001b[39m, \u001b[38;5;241m3\u001b[39m, \u001b[38;5;241m0\u001b[39m, \u001b[38;5;241m3\u001b[39m, \u001b[38;5;241m8\u001b[39m, \u001b[38;5;241m4\u001b[39m, \u001b[38;5;241m2\u001b[39m, \u001b[38;5;241m4\u001b[39m, \u001b[38;5;241m5\u001b[39m, \u001b[38;5;241m1\u001b[39m, \u001b[38;5;241m2\u001b[39m, \u001b[38;5;241m5\u001b[39m, \u001b[38;5;241m4\u001b[39m, \u001b[38;5;241m8\u001b[39m]\n\u001b[0;32m----> 3\u001b[0m true_path \u001b[38;5;241m=\u001b[39m replace_nodes(G, eulerian_path)\n\u001b[1;32m      4\u001b[0m \u001b[38;5;66;03m# Print the final real path\u001b[39;00m\n\u001b[1;32m      5\u001b[0m \u001b[38;5;28mprint\u001b[39m(\u001b[38;5;124m\"\u001b[39m\u001b[38;5;124mThe true path is : \u001b[39m\u001b[38;5;124m\"\u001b[39m, true_path)\n",
      "Input \u001b[0;32mIn [7]\u001b[0m, in \u001b[0;36mreplace_nodes\u001b[0;34m(G, path)\u001b[0m\n\u001b[1;32m     13\u001b[0m \u001b[38;5;28;01mif\u001b[39;00m (\u001b[38;5;129;01mnot\u001b[39;00m is_in_graph(G, a, b)):\n\u001b[1;32m     14\u001b[0m     \u001b[38;5;28mprint\u001b[39m(\u001b[38;5;124m\"\u001b[39m\u001b[38;5;124mdijkstra iter \u001b[39m\u001b[38;5;124m\"\u001b[39m \u001b[38;5;241m+\u001b[39m \u001b[38;5;28mstr\u001b[39m(i))\n\u001b[0;32m---> 15\u001b[0m     p \u001b[38;5;241m=\u001b[39m \u001b[43mbfs\u001b[49m\u001b[43m(\u001b[49m\u001b[43mG\u001b[49m\u001b[43m,\u001b[49m\u001b[43m \u001b[49m\u001b[43ma\u001b[49m\u001b[43m,\u001b[49m\u001b[43m \u001b[49m\u001b[43mb\u001b[49m\u001b[43m)\u001b[49m \u001b[38;5;66;03m# considering graph directed\u001b[39;00m\n\u001b[1;32m     17\u001b[0m     path\u001b[38;5;241m.\u001b[39mpop(i)\n\u001b[1;32m     18\u001b[0m     path\u001b[38;5;241m.\u001b[39mpop(i)\n",
      "Input \u001b[0;32mIn [11]\u001b[0m, in \u001b[0;36mbfs\u001b[0;34m(G, start, end)\u001b[0m\n\u001b[1;32m      5\u001b[0m \u001b[38;5;28;01mwhile\u001b[39;00m queue:\n\u001b[1;32m      6\u001b[0m     (node, path) \u001b[38;5;241m=\u001b[39m queue\u001b[38;5;241m.\u001b[39mpop(\u001b[38;5;241m0\u001b[39m)\n\u001b[0;32m----> 7\u001b[0m     \u001b[38;5;28;01mfor\u001b[39;00m next_node \u001b[38;5;129;01min\u001b[39;00m \u001b[43mG\u001b[49m\u001b[38;5;241;43m.\u001b[39;49m\u001b[43mneighbors\u001b[49m(node):\n\u001b[1;32m      8\u001b[0m         \u001b[38;5;28;01mif\u001b[39;00m next_node \u001b[38;5;241m==\u001b[39m end:\n\u001b[1;32m      9\u001b[0m             \u001b[38;5;28;01mreturn\u001b[39;00m path \u001b[38;5;241m+\u001b[39m [next_node]\n",
      "\u001b[0;31mAttributeError\u001b[0m: 'list' object has no attribute 'neighbors'"
     ]
    }
   ],
   "source": [
    "G = [(0, 3, 7), (0, 2, 3), (1, 2, 1), (1, 7, 2), (2, 5, 2), (2, 4, 3), (2, 3, 6), (3, 8, 9), (3, 0, 2), (4, 5, 2), (4, 8, 3), (5, 4, 2), (5, 1, 4), (6, 8, 2), (6, 5, 6), (6, 7, 4), (7, 6, 4), (7, 9, 4), (8, 4, 3), (8, 3, 3), (9, 6, 4), (9, 11, 1), (10, 11, 1)]\n",
    "eulerian_path = [10, 11, 9, 11, 6, 7, 9, 6, 5, 1, 7, 6, 8, 3, 0, 2, 3, 0, 3, 8, 4, 2, 4, 5, 1, 2, 5, 4, 8]\n",
    "true_path = replace_nodes(G, eulerian_path)\n",
    "# Print the final real path\n",
    "print(\"The true path is : \", true_path)"
   ]
  },
  {
   "cell_type": "code",
   "execution_count": null,
   "id": "e839bc4a",
   "metadata": {},
   "outputs": [],
   "source": []
  }
 ],
 "metadata": {
  "kernelspec": {
   "display_name": "Python 3 (ipykernel)",
   "language": "python",
   "name": "python3"
  },
  "language_info": {
   "codemirror_mode": {
    "name": "ipython",
    "version": 3
   },
   "file_extension": ".py",
   "mimetype": "text/x-python",
   "name": "python",
   "nbconvert_exporter": "python",
   "pygments_lexer": "ipython3",
   "version": "3.10.5"
  }
 },
 "nbformat": 4,
 "nbformat_minor": 5
}
